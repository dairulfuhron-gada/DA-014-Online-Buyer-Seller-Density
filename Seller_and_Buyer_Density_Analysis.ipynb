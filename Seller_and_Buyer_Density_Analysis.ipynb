{
  "nbformat": 4,
  "nbformat_minor": 0,
  "metadata": {
    "colab": {
      "name": "Seller and Buyer Density Analysis.ipynb",
      "provenance": []
    },
    "kernelspec": {
      "name": "python3",
      "display_name": "Python 3"
    }
  },
  "cells": [
    {
      "cell_type": "code",
      "metadata": {
        "colab": {
          "base_uri": "https://localhost:8080/"
        },
        "id": "9X0tHW8RaGxw",
        "outputId": "3954196c-2aef-4b08-c656-debc9274361e"
      },
      "source": [
        "!pip install SQLAlchemy"
      ],
      "execution_count": null,
      "outputs": [
        {
          "output_type": "stream",
          "text": [
            "Requirement already satisfied: SQLAlchemy in /usr/local/lib/python3.7/dist-packages (1.3.23)\n"
          ],
          "name": "stdout"
        }
      ]
    },
    {
      "cell_type": "code",
      "metadata": {
        "colab": {
          "base_uri": "https://localhost:8080/"
        },
        "id": "Ce8CLj5HakcT",
        "outputId": "5cb36ad1-c3b0-4ab7-a281-f1129f4127b1"
      },
      "source": [
        "!pip install psycopg2"
      ],
      "execution_count": null,
      "outputs": [
        {
          "output_type": "stream",
          "text": [
            "Requirement already satisfied: psycopg2 in /usr/local/lib/python3.7/dist-packages (2.7.6.1)\n"
          ],
          "name": "stdout"
        }
      ]
    },
    {
      "cell_type": "code",
      "metadata": {
        "colab": {
          "base_uri": "https://localhost:8080/"
        },
        "id": "vXGMou1rarl5",
        "outputId": "20c8c461-7295-47d2-85c3-5470a7c95799"
      },
      "source": [
        "import sqlalchemy\n",
        "import pandas as pd\n",
        "import numpy as np\n",
        "from geopy import distance\n",
        "from tqdm import tqdm\n",
        "\n",
        "from sqlalchemy import create_engine\n",
        "engine = create_engine('postgresql+psycopg2://dairul.fuhron@gudangada.com:NmgNkFA53wepusP9@bi-playground.c6l2qlyxjdnr.ap-southeast-1.rds.amazonaws.com:5432/bi-playground')\n",
        "query_anchor = \"\"\"\n",
        "SELECT      s.id store_id\n",
        "            , s.unique_id\n",
        "            , aa.name city \n",
        "            , address_latitude\n",
        "            , address_longitude\n",
        "FROM        \"gada-marketplace\".store s\n",
        "LEFT JOIN   \"gada-marketplace\".address_area aa ON s.address_city_id = aa.id AND aa.type = 'CITY'\n",
        "LEFT JOIN   \"gada-marketplace\".fee_group fg ON s.fee_group_id = fg.id\n",
        "WHERE       s.deleted IS NULL\n",
        "            AND s.is_active IS TRUE\n",
        "            AND allows_selling IS FALSE\n",
        "            AND acquisition_channel = 'NON_REFERRED'\n",
        "            AND fg.name <> 'TESTING'\n",
        "            AND s.store_name NOT LIKE '%.'\n",
        "\"\"\"\n",
        "query_sup = \"\"\"\n",
        "SELECT      s.id store_id\n",
        "            , s.unique_id\n",
        "            , aa.name city \n",
        "            , address_latitude\n",
        "            , address_longitude\n",
        "FROM        \"gada-marketplace\".store s\n",
        "LEFT JOIN   \"gada-marketplace\".address_area aa ON s.address_city_id = aa.id AND aa.type = 'CITY'\n",
        "LEFT JOIN   \"gada-marketplace\".fee_group fg ON s.fee_group_id = fg.id\n",
        "JOIN        (\n",
        "            SELECT    DISTINCT store_id\n",
        "            FROM      \"gada-marketplace\".inventory i\n",
        "            WHERE     i.deleted IS NULL\n",
        "                      AND i.is_active IS TRUE\n",
        "                      AND i.available_stock > 0\n",
        "            ) x ON s.id = x.store_id\n",
        "WHERE       s.deleted IS NULL\n",
        "            AND s.is_active IS TRUE\n",
        "            AND allows_selling IS TRUE\n",
        "            AND fg.name <> 'TESTING'\n",
        "\"\"\"\n",
        "df_anchor = pd.read_sql_query(query_anchor, engine)\n",
        "df_sup = pd.read_sql_query(query_sup, engine)\n",
        "# print(df_anchor)\n",
        "# print(df_sup)\n",
        "df_anchor.info()\n",
        "df_sup.info()"
      ],
      "execution_count": 10,
      "outputs": [
        {
          "output_type": "stream",
          "text": [
            "<class 'pandas.core.frame.DataFrame'>\n",
            "RangeIndex: 13164 entries, 0 to 13163\n",
            "Data columns (total 5 columns):\n",
            " #   Column             Non-Null Count  Dtype  \n",
            "---  ------             --------------  -----  \n",
            " 0   store_id           13164 non-null  int64  \n",
            " 1   unique_id          13164 non-null  object \n",
            " 2   city               13146 non-null  object \n",
            " 3   address_latitude   13164 non-null  float64\n",
            " 4   address_longitude  13164 non-null  float64\n",
            "dtypes: float64(2), int64(1), object(2)\n",
            "memory usage: 514.3+ KB\n",
            "<class 'pandas.core.frame.DataFrame'>\n",
            "RangeIndex: 6102 entries, 0 to 6101\n",
            "Data columns (total 5 columns):\n",
            " #   Column             Non-Null Count  Dtype  \n",
            "---  ------             --------------  -----  \n",
            " 0   store_id           6102 non-null   int64  \n",
            " 1   unique_id          6102 non-null   object \n",
            " 2   city               6101 non-null   object \n",
            " 3   address_latitude   6102 non-null   float64\n",
            " 4   address_longitude  6102 non-null   float64\n",
            "dtypes: float64(2), int64(1), object(2)\n",
            "memory usage: 238.5+ KB\n"
          ],
          "name": "stdout"
        }
      ]
    },
    {
      "cell_type": "code",
      "metadata": {
        "colab": {
          "base_uri": "https://localhost:8080/"
        },
        "id": "Er_R97xgxgPT",
        "outputId": "e7d0b1b6-b1a0-41a9-de6c-e7ce0693f963"
      },
      "source": [
        "# For getting 15 KM Radius from each Anchor to Support(s)\n",
        "\n",
        "lst = []\n",
        "group_id = 1\n",
        "for x,y,z in tqdm(df_anchor[['unique_id', 'address_latitude', 'address_longitude']].itertuples(index=False)):\n",
        "    for a,b,c in df_sup[['unique_id', 'address_latitude', 'address_longitude']].itertuples(index=False):\n",
        "        coord_anchor = (y, z)\n",
        "        coord_support = (b, c)\n",
        "        radius = (distance.distance(coord_anchor,coord_support).km)\n",
        "        if radius <= 15:\n",
        "            lst.append({'group_id': group_id, \n",
        "                        'anchor': x, \n",
        "                        'support':a,\n",
        "                        'support_latitude': b,\n",
        "                        'support_longitude': c,\n",
        "                        'phase_loop': 1, \n",
        "                        'radius': radius\n",
        "                       })\n",
        "    group_id+=1\n",
        "df_1 = pd.DataFrame(lst)\n",
        "print(df_1)"
      ],
      "execution_count": 11,
      "outputs": [
        {
          "output_type": "stream",
          "text": [
            "13164it [5:09:04,  1.41s/it]\n"
          ],
          "name": "stderr"
        },
        {
          "output_type": "stream",
          "text": [
            "        group_id         anchor  ... phase_loop     radius\n",
            "0              1  GADA-gajlxjkz  ...          1  13.926164\n",
            "1              3  GADA-d0raqmpk  ...          1  14.249137\n",
            "2              3  GADA-d0raqmpk  ...          1   4.155910\n",
            "3              3  GADA-d0raqmpk  ...          1   7.943419\n",
            "4              3  GADA-d0raqmpk  ...          1  14.674956\n",
            "...          ...            ...  ...        ...        ...\n",
            "838228     13164  GADA-zxao4m5g  ...          1   7.791152\n",
            "838229     13164  GADA-zxao4m5g  ...          1  13.832303\n",
            "838230     13164  GADA-zxao4m5g  ...          1  14.043833\n",
            "838231     13164  GADA-zxao4m5g  ...          1   7.496625\n",
            "838232     13164  GADA-zxao4m5g  ...          1   6.336232\n",
            "\n",
            "[838233 rows x 7 columns]\n"
          ],
          "name": "stdout"
        }
      ]
    },
    {
      "cell_type": "code",
      "metadata": {
        "id": "TDK--M4kC-cu"
      },
      "source": [
        "df_1.to_sql('irul_online_buyer_seller_density', con=engine, schema='public', if_exists='replace',\n",
        "           index=False, method='multi')"
      ],
      "execution_count": 12,
      "outputs": []
    }
  ]
}